{
 "cells": [
  {
   "cell_type": "markdown",
   "id": "c916c015-7fb9-44a9-964e-891015e9b281",
   "metadata": {},
   "source": [
    "## Práctica 2: Intervalo de confianza para el coeficiente de determinación"
   ]
  },
  {
   "cell_type": "markdown",
   "id": "4fe686d1-4ccd-4c8c-9e7b-b02f5714a8e8",
   "metadata": {},
   "source": [
    "1. Genera una muestra de números aleatorios de tamaño N=100 distribuidos normalmente (gaussiana) y asigna estos valores a la variable $ 'x' $.\n",
    "2. Define $ 'y' $ como una función lineal de $ 'x' $, por ejemplo, $ y = 2x + error $, donde el $ 'error' $ es un término de error aleatorio distribuido normalmente (gaussiana).\n",
    "3. Utiliza la función $ 'lm' $ para ajustar un modelo de regresión lineal a los datos. Imprime un resumen del modelo y analiza los coeficientes.\n",
    "4. Define una función con algunos parámetros generales que permite calcular el coeficiente de determinación $ R^{2} $ para un remuestreo de los datos.\n",
    "5. Estudia cómo se comporta el coeficiente de determinación. Determina mediante la función anterior y la técnica de remuestreo bootstrap los intervalos de confianza del coeficiente de determinación $ R^{2} $.\n",
    "6. Calcula tambien mediante bootstrap los intervalos de confianza para los coeficientes del modelo."
   ]
  },
  {
   "cell_type": "markdown",
   "id": "06fae719-7f97-4f9b-8a70-448f888d5615",
   "metadata": {},
   "source": [
    "1. Genera una muestra de tamaño N=100 números aleatorios distribuidos normalmente y asigna estos valores a la variable $ 'x' $.\n",
    "2. Define $ 'y' $ como una función lineal de $ 'x' $, por ejemplo, $ y = 2x + error $, donde el $ 'error' $ es un término de error aleatorio distribuido normalmente."
   ]
  },
  {
   "cell_type": "code",
   "execution_count": 24,
   "id": "38e5b2e7-0c61-46ee-b940-00b000b8f2b9",
   "metadata": {
    "vscode": {
     "languageId": "r"
    }
   },
   "outputs": [],
   "source": [
    "# Genera una muestra de números aleatorios de tamaño N=100 y Define 'y' como una función lineal de 'x'\n",
    "N = 100 \n",
    "media = 8\n",
    "desv = 2\n",
    "x = rnorm(N, media, desv)\n",
    "\n",
    "error = rnorm(N, 4, 1)\n",
    "\n",
    "y = 2*x + error\n",
    "\n",
    "#Dataframe de x y y\n",
    "datos = data.frame(x, y)"
   ]
  },
  {
   "cell_type": "code",
   "execution_count": 25,
   "id": "1a55ca69-f1bd-4419-ae02-d6301800e041",
   "metadata": {
    "vscode": {
     "languageId": "r"
    }
   },
   "outputs": [
    {
     "name": "stdout",
     "output_type": "stream",
     "text": [
      "Mediana muestral: 7.885203"
     ]
    },
    {
     "data": {
      "text/plain": [
       "   Min. 1st Qu.  Median    Mean 3rd Qu.    Max. \n",
       "  2.605   6.930   7.885   8.080   9.406  14.173 "
      ]
     },
     "metadata": {},
     "output_type": "display_data"
    },
    {
     "data": {
      "image/png": "[encoded data removed]",
      "text/plain": [
       "Plot with title \"Histogram of x\""
      ]
     },
     "metadata": {
      "image/png": {
       "height": 420,
       "width": 420
      }
     },
     "output_type": "display_data"
    },
    {
     "data": {
      "image/png": "[encoded data removed]",
      "text/plain": [
       "Plot with title \"Scatter plot de x vs y\""
      ]
     },
     "metadata": {
      "image/png": {
       "height": 420,
       "width": 420
      }
     },
     "output_type": "display_data"
    }
   ],
   "source": [
    "# Análisis exploratorio y Scatter plot\n",
    "hist(x, freq = FALSE)\n",
    "abline(v=median(x), lty=1, col=\"red\")\n",
    "cat(\"Mediana muestral:\", median(x))\n",
    "\n",
    "summary(x)\n",
    "\n",
    "#scatter plot\n",
    "plot(x, y, main=\"Scatter plot de x vs y\", xlab=\"x\", ylab=\"y\", pch=19, frame=FALSE)"
   ]
  },
  {
   "cell_type": "markdown",
   "id": "4480432f-e823-4765-a096-81ee0ff49d17",
   "metadata": {},
   "source": [
    "3. Utiliza la función $ 'lm' $ para ajustar un modelo de regresión lineal a los datos. Imprime un resumen del modelo y analiza los coeficientes."
   ]
  },
  {
   "cell_type": "code",
   "execution_count": 33,
   "id": "e4663313-18e5-4a26-9d18-327c36dbe3a5",
   "metadata": {
    "vscode": {
     "languageId": "r"
    }
   },
   "outputs": [
    {
     "data": {
      "text/plain": [
       "\n",
       "Call:\n",
       "lm(formula = y ~ x, data = datos)\n",
       "\n",
       "Residuals:\n",
       "     Min       1Q   Median       3Q      Max \n",
       "-2.62008 -0.66155  0.04268  0.73834  2.54411 \n",
       "\n",
       "Coefficients:\n",
       "            Estimate Std. Error t value Pr(>|t|)    \n",
       "(Intercept)  3.83009    0.42492   9.014 1.67e-14 ***\n",
       "x            2.04058    0.05092  40.077  < 2e-16 ***\n",
       "---\n",
       "Signif. codes:  0 '***' 0.001 '**' 0.01 '*' 0.05 '.' 0.1 ' ' 1\n",
       "\n",
       "Residual standard error: 1.062 on 98 degrees of freedom\n",
       "Multiple R-squared:  0.9425,\tAdjusted R-squared:  0.9419 \n",
       "F-statistic:  1606 on 1 and 98 DF,  p-value: < 2.2e-16\n"
      ]
     },
     "metadata": {},
     "output_type": "display_data"
    },
    {
     "name": "stdout",
     "output_type": "stream",
     "text": [
      "Coeficientes del modelo de regresión lineal: \n",
      "Intercepto: 3.830093 \n",
      "Pendiente: 2.040577 \n",
      "Coeficiente de determinación: 0.9424925 \n",
      "se observa una pendiente positiva en la relación entre x e y, \n",
      "lo que indica una relación lineal positiva entre las dos variables. \n",
      "La pendiente es de aproximadamente 2, lo que sugiere que por cada\n",
      "unidad de aumento en x, la variable y aumenta en aproximadamente 2 unidades. \n",
      "El coeficiente de intercepción es de aproximadamente 4, lo que indica\n",
      "que el valor de y cuando x es 0 es de aproximadamente 4. \n",
      "En cuanto al coeficiente de determinación, es alto, lo que sugiere que el modelo\n",
      "ajustado explica una gran proporción de la variabilidad en la variable \n",
      "dependiente. Esto indica un buen ajuste del modelo. "
     ]
    },
    {
     "data": {
      "image/png": "[encoded data removed]",
      "text/plain": [
       "Plot with title \"Scatter plot de x vs y\""
      ]
     },
     "metadata": {
      "image/png": {
       "height": 420,
       "width": 420
      }
     },
     "output_type": "display_data"
    }
   ],
   "source": [
    "mrl = lm(y ~ x, datos)\n",
    "\n",
    "summary(mrl)\n",
    "\n",
    "# Gráfico de dispersión con la línea de regresión ajustada\n",
    "plot(x, y, main=\"Scatter plot de x vs y\", xlab=\"x\", ylab=\"y\", pch=19, frame=FALSE, xlim = c(0, 10), ylim = c(0,30))\n",
    "abline(mrl, col=\"red\")\n",
    " \n",
    "#coeficientes\n",
    "cat(\"Coeficientes del modelo de regresión lineal:\", \"\\n\")\n",
    "cat(\"Intercepto:\", coef(mrl)[1], \"\\n\")\n",
    "cat(\"Pendiente:\", coef(mrl)[2], \"\\n\")\n",
    "cat(\"Coeficiente de determinación:\", summary(mrl)$r.squared, \"\\n\")\n",
    "\n",
    "cat(\"se observa una pendiente positiva en la relación entre x e y, \n",
    "lo que indica una relación lineal positiva entre las dos variables. \n",
    "La pendiente es de aproximadamente 2, lo que sugiere que por cada\n",
    "unidad de aumento en x, la variable y aumenta en aproximadamente 2 unidades. \n",
    "El coeficiente de intercepción es de aproximadamente 4, lo que indica\n",
    "que el valor de y cuando x es 0 es de aproximadamente 4. \n",
    "En cuanto al coeficiente de determinación, es alto, lo que sugiere que el modelo\n",
    "ajustado explica una gran proporción de la variabilidad en la variable \n",
    "dependiente. Esto indica un buen ajuste del modelo. \")\n"
   ]
  },
  {
   "cell_type": "markdown",
   "id": "207b372b-307b-444b-85a8-c10f33e1e33e",
   "metadata": {},
   "source": [
    "4. Define una función con algunos parámetros generales que permite calcular el coeficiente de determinación $ R^{2} $ para un remuestreo de los datos.\n",
    "5. Determina mediante la función anterior y la técnica de remuestreo bootstrap los intervalos de confianza del coeficiente de determinación $ R^{2} $."
   ]
  },
  {
   "cell_type": "code",
   "execution_count": 34,
   "id": "ea8c5a1d-b4ae-458a-9aa5-09cf5c221b68",
   "metadata": {
    "vscode": {
     "languageId": "r"
    }
   },
   "outputs": [
    {
     "name": "stdout",
     "output_type": "stream",
     "text": [
      " num [1:1000] 0.924 0.924 0.945 0.944 0.931 ...\n"
     ]
    }
   ],
   "source": [
    "# función coeficiente de determinación para un remuestreo de los datos.\n",
    "coeficiente_R2 = function(x, y, data){\n",
    "  mrl = lm(y ~ x, data)\n",
    "  return(summary(mrl)$r.squared)\n",
    "}\n",
    "\n",
    "# función de bootstrap\n",
    "bootstrap_sample = function(x) {\n",
    "  n = length(x)\n",
    "  res = sample(x, size=n, replace = TRUE)\n",
    "  return(res)\n",
    "}\n",
    "\n",
    "# Calcula el coeficiente de determinación para 1000 remuestreos de los datos\n",
    "M = 1000 # número de remuestreos\n",
    "R2 = rep(0, M) #coeficientes de determinacion de los remuestreos\n",
    "\n",
    "set.seed(102)\n",
    "for (i in 1:M){\n",
    "  x_boot = bootstrap_sample(x)\n",
    "  y_boot = 2*x_boot + error\n",
    "  datos_boot = data.frame(x_boot, y_boot)\n",
    "  R2[i] = coeficiente_R2(x_boot, y_boot, datos_boot)\n",
    "}\n",
    "\n",
    "str(R2)\n",
    "\n"
   ]
  },
  {
   "cell_type": "code",
   "execution_count": 43,
   "id": "4b538ec4-7d58-4ba3-beee-94d67c68ccfb",
   "metadata": {
    "vscode": {
     "languageId": "r"
    }
   },
   "outputs": [
    {
     "name": "stdout",
     "output_type": "stream",
     "text": [
      "Intervalo de confianza del coeficiente de determinación con un nivel de \n",
      "confianza del 95%: \n"
     ]
    },
    {
     "data": {
      "text/html": [
       "<style>\n",
       ".dl-inline {width: auto; margin:0; padding: 0}\n",
       ".dl-inline>dt, .dl-inline>dd {float: none; width: auto; display: inline-block}\n",
       ".dl-inline>dt::after {content: \":\\0020\"; padding-right: .5ex}\n",
       ".dl-inline>dt:not(:first-of-type) {padding-left: .5ex}\n",
       "</style><dl class=dl-inline><dt>2.5%</dt><dd>0.916094812363739</dd><dt>97.5%</dt><dd>0.954885996605012</dd></dl>\n"
      ],
      "text/latex": [
       "\\begin{description*}\n",
       "\\item[2.5\\textbackslash{}\\%] 0.916094812363739\n",
       "\\item[97.5\\textbackslash{}\\%] 0.954885996605012\n",
       "\\end{description*}\n"
      ],
      "text/markdown": [
       "2.5%\n",
       ":   0.91609481236373997.5%\n",
       ":   0.954885996605012\n",
       "\n"
      ],
      "text/plain": [
       "     2.5%     97.5% \n",
       "0.9160948 0.9548860 "
      ]
     },
     "metadata": {},
     "output_type": "display_data"
    },
    {
     "name": "stdout",
     "output_type": "stream",
     "text": [
      "Coeficiente de determinación del modelo de regresión lineal: 0.9424925 \n",
      "\n",
      "Con un 95% de confianza, se estima que el coeficiente de \n",
      "determinación se encuentra entre el 0.91 y el 0.95. Recordemos \n",
      "que en el resultado del punto anterior, el coeficiente de\n",
      "determinación del modelo de regresión lineal ajustado fue de \n",
      "aproximadamente 0.9424925 , compronbandose que\n",
      "el intervalo de confianza contiene este valor. Esto\n",
      "sugiere que el remuestreo de los datos produce coeficientes\n",
      "de determinación que están cerca del valor del coeficiente\n",
      "de determinación del modelo de regresión lineal ajustado.\n",
      "Por lo tanto, se puede concluir que el remuestreo de los datos\n",
      "es consistente con el modelo de regresión lineal ajustado. Por su parte, en el histograma se observa que la distribución\n",
      "de los coeficientes de determinación de los remuestreos tiene un\n",
      "compotamiento similar a una normal, con una media\n",
      "cercana al valor del coeficiente de determinación del modelo de\n",
      "regresión lineal ajustado. "
     ]
    },
    {
     "data": {
      "image/png": "[encoded data removed]",
      "text/plain": [
       "Plot with title \"Histograma de coeficientes de determinación de 1000 remuestreos\""
      ]
     },
     "metadata": {
      "image/png": {
       "height": 420,
       "width": 420
      }
     },
     "output_type": "display_data"
    }
   ],
   "source": [
    "# Intervalos de confianza del coeficiente de determinación\n",
    "cat(\"Intervalo de confianza del coeficiente de determinación con un nivel de \n",
    "confianza del 95%: \\n\")\n",
    "alpha = 1 - 0.95\n",
    "quantile(R2, c(alpha/2, 1-alpha/2))\n",
    "\n",
    "# Estudia cómo se comporta el coeficiente de determinación --> hist(coef_det)\n",
    "hist(R2, freq = FALSE, main=\"Histograma de coeficientes de determinación de 1000 remuestreos\")\n",
    "abline(v=summary(mrl)$r.squared, lty=1, col=\"red\")\n",
    "abline(v=quantile(R2, c(alpha/2, 1-alpha/2)), lty=2, col=\"blue\")\n",
    "\n",
    "\n",
    "cat(\"Coeficiente de determinación del modelo de regresión lineal:\", summary(mrl)$r.squared, \"\\n\\n\")\n",
    "\n",
    "cat(\"Con un 95% de confianza, se estima que el coeficiente de \n",
    "determinación se encuentra entre el 0.91 y el 0.95. Recordemos \n",
    "que en el resultado del punto anterior, el coeficiente de\n",
    "determinación del modelo de regresión lineal ajustado fue de \n",
    "aproximadamente\", summary(mrl)$r.squared, \", compronbandose que\n",
    "el intervalo de confianza contiene este valor. Esto\n",
    "sugiere que el remuestreo de los datos produce coeficientes\n",
    "de determinación que están cerca del valor del coeficiente\n",
    "de determinación del modelo de regresión lineal ajustado.\n",
    "Por lo tanto, se puede concluir que el remuestreo de los datos\n",
    "es consistente con el modelo de regresión lineal ajustado. \")\n",
    "\n",
    "cat(\"Por su parte, en el histograma se observa que la distribución\n",
    "de los coeficientes de determinación de los remuestreos tiene un\n",
    "compotamiento similar a una normal, con una media\n",
    "cercana al valor del coeficiente de determinación del modelo de\n",
    "regresión lineal ajustado. \")\n",
    "\n",
    "\n"
   ]
  },
  {
   "cell_type": "markdown",
   "id": "63e6a46c-6d48-410e-8ff9-97298e153e68",
   "metadata": {},
   "source": [
    "6. Calcula tambien mediante bootstrap los intervalos de confianza para los coeficientes del modelo."
   ]
  },
  {
   "cell_type": "code",
   "execution_count": 39,
   "id": "7a449e93-afec-47bf-80b7-299a44f446ed",
   "metadata": {
    "vscode": {
     "languageId": "r"
    }
   },
   "outputs": [
    {
     "name": "stdout",
     "output_type": "stream",
     "text": [
      " num [1:1000, 1:2] 3.47 4.37 4.31 4.42 4.8 ...\n"
     ]
    }
   ],
   "source": [
    "# Funcion para calcular los coeficientes de cada uno de los remuestreos bootstrap\n",
    "coeficientes = function(x, y, data){\n",
    "  mrl = lm(y ~ x, data)\n",
    "  return(coef(mrl))\n",
    "}\n",
    "\n",
    "# Calcula los coeficientes de la regresión lineal para 1000 remuestreos de los datos\n",
    "coeficientes_boot = matrix(0, M, 2) #coeficientes de los remuestreos\n",
    "\n",
    "set.seed(102)\n",
    "for (i in 1:M){\n",
    "  x_boot = bootstrap_sample(x)\n",
    "  y_boot = 2*x_boot + error\n",
    "  datos_boot = data.frame(x_boot, y_boot)\n",
    "  coeficientes_boot[i,] = coeficientes(x_boot, y_boot, datos_boot)\n",
    "}\n",
    "\n",
    "str(coeficientes_boot)\n"
   ]
  },
  {
   "cell_type": "code",
   "execution_count": 44,
   "id": "71f77854-8d06-4083-a3e0-2eabb47aa9cf",
   "metadata": {
    "vscode": {
     "languageId": "r"
    }
   },
   "outputs": [
    {
     "name": "stdout",
     "output_type": "stream",
     "text": [
      "Intervalo de confianza del coeficiente de intercepción con un nivel de\n",
      "confianza del 95%:"
     ]
    },
    {
     "data": {
      "text/html": [
       "<style>\n",
       ".dl-inline {width: auto; margin:0; padding: 0}\n",
       ".dl-inline>dt, .dl-inline>dd {float: none; width: auto; display: inline-block}\n",
       ".dl-inline>dt::after {content: \":\\0020\"; padding-right: .5ex}\n",
       ".dl-inline>dt:not(:first-of-type) {padding-left: .5ex}\n",
       "</style><dl class=dl-inline><dt>2.5%</dt><dd>3.3781632315184</dd><dt>97.5%</dt><dd>4.98154898536405</dd></dl>\n"
      ],
      "text/latex": [
       "\\begin{description*}\n",
       "\\item[2.5\\textbackslash{}\\%] 3.3781632315184\n",
       "\\item[97.5\\textbackslash{}\\%] 4.98154898536405\n",
       "\\end{description*}\n"
      ],
      "text/markdown": [
       "2.5%\n",
       ":   3.378163231518497.5%\n",
       ":   4.98154898536405\n",
       "\n"
      ],
      "text/plain": [
       "    2.5%    97.5% \n",
       "3.378163 4.981549 "
      ]
     },
     "metadata": {},
     "output_type": "display_data"
    },
    {
     "name": "stdout",
     "output_type": "stream",
     "text": [
      "Coeficiente de intercepción del modelo de regresión lineal: 3.830093 \n",
      "\n",
      "Con un 95% de confianza, se estima que el coeficiente de intercepción\n",
      "se encuentra entre 3.1 y 4.8. Esto es coherente con los resultados anteriores,\n",
      "donde el valor del coeficiente de intercepción del modelo de regresión lineal\n",
      "ajustado fue de aproximadamente 3.8. "
     ]
    },
    {
     "data": {
      "image/png": "[encoded data removed]",
      "text/plain": [
       "Plot with title \"Histograma de coeficientes de intercepción de 1000 remuestreos\""
      ]
     },
     "metadata": {
      "image/png": {
       "height": 420,
       "width": 420
      }
     },
     "output_type": "display_data"
    }
   ],
   "source": [
    "# Intervalos de confianza\n",
    "cat(\"Intervalo de confianza del coeficiente de intercepción con un nivel de\n",
    "confianza del 95%:\")\n",
    "quantile(coeficientes_boot[,1], c(alpha/2, 1-alpha/2))\n",
    "\n",
    "# Estudia cómo se comporta el coeficiente \"Intercept\" --> hist(coef_Intercept)\n",
    "hist(coeficientes_boot[,1], freq = FALSE, main=\"Histograma de coeficientes de intercepción de 1000 remuestreos\")\n",
    "abline(v=coef(mrl)[1], lty=1, col=\"red\")\n",
    "abline(v=quantile(coeficientes_boot[,1], c(alpha/2, 1-alpha/2)), lty=2, col=\"blue\")\n",
    "\n",
    "cat(\"Coeficiente de intercepción del modelo de regresión lineal:\", coef(mrl)[1], \"\\n\\n\")\n",
    "\n",
    "cat(\"Con un 95% de confianza, se estima que el coeficiente de intercepción\n",
    "se encuentra entre 3.1 y 4.8. Esto es coherente con los resultados anteriores,\n",
    "donde el valor del coeficiente de intercepción del modelo de regresión lineal\n",
    "ajustado fue de aproximadamente 3.8. \")\n",
    "\n"
   ]
  },
  {
   "cell_type": "code",
   "execution_count": 45,
   "id": "db7ed9e5-6473-4f1f-8fb1-f6d0d5bd56c6",
   "metadata": {
    "vscode": {
     "languageId": "r"
    }
   },
   "outputs": [
    {
     "name": "stdout",
     "output_type": "stream",
     "text": [
      "Intervalo de confianza del coeficiente de pendiente con un nivel de\n",
      "confianza del 95%:"
     ]
    },
    {
     "data": {
      "text/html": [
       "<style>\n",
       ".dl-inline {width: auto; margin:0; padding: 0}\n",
       ".dl-inline>dt, .dl-inline>dd {float: none; width: auto; display: inline-block}\n",
       ".dl-inline>dt::after {content: \":\\0020\"; padding-right: .5ex}\n",
       ".dl-inline>dt:not(:first-of-type) {padding-left: .5ex}\n",
       "</style><dl class=dl-inline><dt>2.5%</dt><dd>1.90013022063644</dd><dt>97.5%</dt><dd>2.09622573183651</dd></dl>\n"
      ],
      "text/latex": [
       "\\begin{description*}\n",
       "\\item[2.5\\textbackslash{}\\%] 1.90013022063644\n",
       "\\item[97.5\\textbackslash{}\\%] 2.09622573183651\n",
       "\\end{description*}\n"
      ],
      "text/markdown": [
       "2.5%\n",
       ":   1.9001302206364497.5%\n",
       ":   2.09622573183651\n",
       "\n"
      ],
      "text/plain": [
       "    2.5%    97.5% \n",
       "1.900130 2.096226 "
      ]
     },
     "metadata": {},
     "output_type": "display_data"
    },
    {
     "name": "stdout",
     "output_type": "stream",
     "text": [
      "Coeficiente de pendiente del modelo de regresión lineal: 2.040577 \n",
      "\n",
      "Con un 95% de confianza, se estima que el coeficiente de pendiente\n",
      "se encuentra entre 1.9 y 2.1. Esto es coherente con los resultados anteriores,\n",
      "donde el valor del coeficiente de pendiente del modelo de regresión lineal\n",
      "ajustado fue de aproximadamente 2."
     ]
    },
    {
     "data": {
      "image/png": "[encoded data removed]",
      "text/plain": [
       "Plot with title \"Histograma de coeficientes de pendiente de 1000 remuestreos\""
      ]
     },
     "metadata": {
      "image/png": {
       "height": 420,
       "width": 420
      }
     },
     "output_type": "display_data"
    }
   ],
   "source": [
    "# Intervalos de confianza\n",
    "cat(\"Intervalo de confianza del coeficiente de pendiente con un nivel de\n",
    "confianza del 95%:\")\n",
    "quantile(coeficientes_boot[,2], c(alpha/2, 1-alpha/2))\n",
    "\n",
    "# Estudia cómo se comporta el coeficiente \"Slope\" --> hist(coef_Slope)\n",
    "hist(coeficientes_boot[,2], freq = FALSE, main=\"Histograma de coeficientes de pendiente de 1000 remuestreos\")\n",
    "abline(v=coef(mrl)[2], lty=1, col=\"red\")\n",
    "abline(v=quantile(coeficientes_boot[,2], c(alpha/2, 1-alpha/2)), lty=2, col=\"blue\")\n",
    "cat(\"Coeficiente de pendiente del modelo de regresión lineal:\", coef(mrl)[2], \"\\n\\n\")\n",
    "\n",
    "cat(\"Con un 95% de confianza, se estima que el coeficiente de pendiente\n",
    "se encuentra entre 1.9 y 2.1. Esto es coherente con los resultados anteriores,\n",
    "donde el valor del coeficiente de pendiente del modelo de regresión lineal\n",
    "ajustado fue de aproximadamente 2.\")"
   ]
  },
  {
   "cell_type": "markdown",
   "id": "70dd0211",
   "metadata": {},
   "source": [
    "notas: DEfinir como se comporta R2, la media y desviación - \n",
    "\n",
    "para cada x y y una grafica "
   ]
  },
  {
   "cell_type": "code",
   "execution_count": 51,
   "id": "9bc4c0c1",
   "metadata": {
    "vscode": {
     "languageId": "r"
    }
   },
   "outputs": [
    {
     "name": "stdout",
     "output_type": "stream",
     "text": [
      "La desviación estándar de los coeficientes de determinación de los remuestreos\n",
      "es de aproximadamente  0.009978631 , la cual es baja y sugiere que los datos estan\n",
      "cerca a la media. \n",
      "En la gráfica se puede observar la densidad de los coeficientes de determinación\n",
      "de los 1000 remuestreos. El coeficiente de determinación del modelo de regresión\n",
      "lineal ajustado es de aproximadamente  0.9424925 , representado \n",
      "por la línea roja, mientras que la media de los coeficientes de determinación de\n",
      "los remuestreos es de aproximadamente  0.9395692 , representado por la\n",
      "línea verde, por lo cual se evidencia que es muy cercano al valor real. Además,\n",
      "se observa que esta dentro del intervalo de confianza del 95% (lineas azules).\n",
      "\n",
      "Esto sugiere que el remuestreo de los datos produce coeficientes de determinación\n",
      "que están cerca del valor del coeficiente de determinación del modelo de regresión\n",
      "lineal ajustado. Por lo tanto, se puede concluir que el remuestreo de los datos\n",
      "es consistente con el modelo de regresión lineal ajustado."
     ]
    },
    {
     "data": {
      "image/png": "[encoded data removed]",
      "text/plain": [
       "Plot with title \"Densidad de coeficientes de determinación de 1000 remuestreos\""
      ]
     },
     "metadata": {
      "image/png": {
       "height": 420,
       "width": 420
      }
     },
     "output_type": "display_data"
    }
   ],
   "source": [
    "# como se comporta R2\n",
    "densidad = density(R2)\n",
    "desv = sd(R2)\n",
    "\n",
    "#grafica\n",
    "plot(densidad, main=\"Densidad de coeficientes de determinación de 1000 remuestreos\", xlab=\"Coeficiente de determinación\", ylab=\"Densidad\")\n",
    "abline(v=summary(mrl)$r.squared, lty=1, col=\"red\") # valor real de la pendiente\n",
    "abline(v=quantile(R2, c(alpha/2, 1-alpha/2)), lty=2, col=\"blue\")\n",
    "abline(v=median(R2), lty=2, col=\"green\") # media de los coeficientes de pendiente bootstrap\n",
    "\n",
    "cat(\"La desviación estándar de los coeficientes de determinación de los remuestreos\n",
    "es de aproximadamente \", desv, \", la cual es baja y sugiere que los datos estan\n",
    "cerca a la media. \\n\")\n",
    "\n",
    "cat(\"En la gráfica se puede observar la densidad de los coeficientes de determinación\n",
    "de los 1000 remuestreos. El coeficiente de determinación del modelo de regresión\n",
    "lineal ajustado es de aproximadamente \", summary(mrl)$r.squared, \", representado \n",
    "por la línea roja, mientras que la media de los coeficientes de determinación de\n",
    "los remuestreos es de aproximadamente \", median(R2), \", representado por la\n",
    "línea verde, por lo cual se evidencia que es muy cercano al valor real. Además,\n",
    "se observa que esta dentro del intervalo de confianza del 95% (lineas azules).\n",
    "\n",
    "Esto sugiere que el remuestreo de los datos produce coeficientes de determinación\n",
    "que están cerca del valor del coeficiente de determinación del modelo de regresión\n",
    "lineal ajustado. Por lo tanto, se puede concluir que el remuestreo de los datos\n",
    "es consistente con el modelo de regresión lineal ajustado.\")\n"
   ]
  }
 ],
 "metadata": {
  "kernelspec": {
   "display_name": "R",
   "language": "R",
   "name": "ir"
  },
  "language_info": {
   "codemirror_mode": "r",
   "file_extension": ".r",
   "mimetype": "text/x-r-source",
   "name": "R",
   "pygments_lexer": "r",
   "version": "4.4.1"
  }
 },
 "nbformat": 4,
 "nbformat_minor": 5
}
